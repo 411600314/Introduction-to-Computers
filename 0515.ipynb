{
  "nbformat": 4,
  "nbformat_minor": 0,
  "metadata": {
    "colab": {
      "provenance": [],
      "authorship_tag": "ABX9TyMD8no67uKDZd1H4ksLw0yP",
      "include_colab_link": true
    },
    "kernelspec": {
      "name": "python3",
      "display_name": "Python 3"
    },
    "language_info": {
      "name": "python"
    }
  },
  "cells": [
    {
      "cell_type": "markdown",
      "metadata": {
        "id": "view-in-github",
        "colab_type": "text"
      },
      "source": [
        "<a href=\"https://colab.research.google.com/github/411600314/Introduction-to-Computers/blob/main/0515.ipynb\" target=\"_parent\"><img src=\"https://colab.research.google.com/assets/colab-badge.svg\" alt=\"Open In Colab\"/></a>"
      ]
    },
    {
      "cell_type": "code",
      "execution_count": null,
      "metadata": {
        "id": "PZOH1hAtT0vA",
        "colab": {
          "base_uri": "https://localhost:8080/"
        },
        "outputId": "7b4daab4-cb59-4776-ab10-8d6449cee6b2"
      },
      "outputs": [
        {
          "output_type": "stream",
          "name": "stdout",
          "text": [
            "0515\n"
          ]
        }
      ],
      "source": [
        "print (\"0515\")"
      ]
    },
    {
      "cell_type": "code",
      "source": [
        "rain = str(input(\"今天會下雨嗎?\"))\n",
        "if(rain==\"Y\" or rain==\"y\"):\n",
        "  print(\"出門記得帶傘!\")\n",
        "elif(rain==\"N\" or rain==\"n\"):\n",
        "  print(\"不用帶傘\")\n",
        "else:\n",
        "  print(\"請重新輸入\")"
      ],
      "metadata": {
        "id": "3l1fi_0EUDuD",
        "colab": {
          "base_uri": "https://localhost:8080/"
        },
        "outputId": "6c880e23-b857-4c13-a546-0f90a7be24b3"
      },
      "execution_count": 4,
      "outputs": [
        {
          "output_type": "stream",
          "name": "stdout",
          "text": [
            "今天會下雨嗎?h\n",
            "請重新輸入\n"
          ]
        }
      ]
    },
    {
      "cell_type": "code",
      "source": [
        "tem= int(input(\"體溫\"))\n",
        "if tem >= 37.5 :\n",
        "  print(\"體溫過高\")\n",
        "elif 37.4 >= tem >= 37 :\n",
        "  print(\"體溫略高\")\n",
        "elif 36.9 >= tem >= 34 :\n",
        "  print(\"體溫正常\")\n",
        "elif tem <= 34 :\n",
        "  print(\"體溫異常，請重新測量\")"
      ],
      "metadata": {
        "id": "5DAWLHnPUD5J",
        "colab": {
          "base_uri": "https://localhost:8080/"
        },
        "outputId": "208516f2-ddf7-4cd1-8213-2ac364152b4d"
      },
      "execution_count": 1,
      "outputs": [
        {
          "output_type": "stream",
          "name": "stdout",
          "text": [
            "體溫32\n",
            "體溫異常，請重新測量\n"
          ]
        }
      ]
    },
    {
      "cell_type": "code",
      "source": [
        "score = int(input(\"請輸入成績: \"))\n",
        "if score >= 90:\n",
        "    print('A')\n",
        "elif 89 >= score >= 80:\n",
        "    print('B')\n",
        "elif 79 >= score >= 70:\n",
        "    print('C')\n",
        "elif 69 >= score >= 60:\n",
        "    print('D')\n",
        "elif score < 60:\n",
        "    print('E')"
      ],
      "metadata": {
        "colab": {
          "base_uri": "https://localhost:8080/"
        },
        "id": "6GhOS7xqeax2",
        "outputId": "d3dda2b2-02a2-4936-fe50-cff9d08655dd"
      },
      "execution_count": 4,
      "outputs": [
        {
          "output_type": "stream",
          "name": "stdout",
          "text": [
            "請輸入成績: 20\n",
            "E\n"
          ]
        }
      ]
    },
    {
      "cell_type": "code",
      "source": [
        "month= int(input(\"輸入月份\"))\n",
        "if month == 3 or 4 or 5 :\n",
        "  print( month,\"月是春天\")\n",
        "elif month == 6 or 7 or 8 :\n",
        "  print( month,\"月是夏天\")\n",
        "elif month == 9 or 10 or 11 :\n",
        "  print( month,\"月是秋天\")\n",
        "elif month == 12 or 1 or 2 :\n",
        "  print( month,\"月是冬天\")\n",
        "else:\n",
        "  print(\"月份不再範圍內\")"
      ],
      "metadata": {
        "id": "6-99a1dkUEA4",
        "colab": {
          "base_uri": "https://localhost:8080/"
        },
        "outputId": "b49fd150-526e-46da-b643-cec88732880b"
      },
      "execution_count": 3,
      "outputs": [
        {
          "output_type": "stream",
          "name": "stdout",
          "text": [
            "輸入月份3\n",
            "3 月是春天\n"
          ]
        }
      ]
    },
    {
      "cell_type": "code",
      "source": [
        "tax = int(input(\"請輸入今年收入淨額:\"))\n",
        "if tax >= 2000000:\n",
        "    print(\"賦稅金額:\" , tax*0.3 ,\"元\")\n",
        "elif 2000000 > tax >= 1000000:\n",
        "    print(\"賦稅金額:\" , tax*0.21 ,\"元\")\n",
        "elif 1000000 > tax >= 600000:\n",
        "    print(\"賦稅金額:\" , tax*0.13 ,\"元\")\n",
        "elif 600000 > tax >= 300000:\n",
        "    print(\"賦稅金額:\" , tax*0.06 ,\"元\")\n",
        "else :\n",
        "  print(\"賦稅金額: 0 元\")"
      ],
      "metadata": {
        "id": "5mtZ8pXLUEJq",
        "colab": {
          "base_uri": "https://localhost:8080/"
        },
        "outputId": "345d7d3a-50c9-4edb-a396-283322727097"
      },
      "execution_count": 6,
      "outputs": [
        {
          "output_type": "stream",
          "name": "stdout",
          "text": [
            "請輸入今年收入淨額:1000000\n",
            "賦稅金額: 210000.0 元\n"
          ]
        }
      ]
    }
  ]
}